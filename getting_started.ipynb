{
 "cells": [
  {
   "cell_type": "markdown",
   "id": "6da84a77",
   "metadata": {},
   "source": [
    "#### 10th October,2025"
   ]
  },
  {
   "cell_type": "markdown",
   "id": "8b7155c6",
   "metadata": {},
   "source": [
    "# MLFlow Tracking Server"
   ]
  },
  {
   "cell_type": "code",
   "execution_count": 2,
   "id": "4945dae6",
   "metadata": {},
   "outputs": [],
   "source": [
    "import mlflow"
   ]
  },
  {
   "cell_type": "code",
   "execution_count": 4,
   "id": "b395464f",
   "metadata": {},
   "outputs": [
    {
     "name": "stderr",
     "output_type": "stream",
     "text": [
      "2025/10/10 16:31:33 INFO mlflow.tracking.fluent: Experiment with name 'First_Experiment' does not exist. Creating a new experiment.\n"
     ]
    },
    {
     "name": "stdout",
     "output_type": "stream",
     "text": [
      "🏃 View run nebulous-squid-652 at: http://127.0.0.1:5000/#/experiments/865385208073073057/runs/554e24f4925448e69ab40ef07a7fe32a\n",
      "🧪 View experiment at: http://127.0.0.1:5000/#/experiments/865385208073073057\n"
     ]
    }
   ],
   "source": [
    "mlflow.set_tracking_uri(\"http://127.0.0.1:5000\")\n",
    "mlflow.set_experiment(\"First_Experiment\")\n",
    "with mlflow.start_run():\n",
    "    mlflow.log_metric(\"test\",1)\n",
    "    mlflow.log_metric(\"sushant\",2)"
   ]
  },
  {
   "cell_type": "code",
   "execution_count": 5,
   "id": "226a32b9",
   "metadata": {},
   "outputs": [
    {
     "name": "stdout",
     "output_type": "stream",
     "text": [
      "🏃 View run carefree-hound-720 at: http://127.0.0.1:5000/#/experiments/865385208073073057/runs/facb9657ba6343f195eae200ad604c09\n",
      "🧪 View experiment at: http://127.0.0.1:5000/#/experiments/865385208073073057\n"
     ]
    }
   ],
   "source": [
    "with mlflow.start_run():\n",
    "    mlflow.log_metric(\"test1\",1)\n",
    "    mlflow.log_metric(\"sushant1\",2)"
   ]
  },
  {
   "cell_type": "code",
   "execution_count": null,
   "id": "9d253396",
   "metadata": {},
   "outputs": [],
   "source": []
  }
 ],
 "metadata": {
  "kernelspec": {
   "display_name": "venv",
   "language": "python",
   "name": "python3"
  },
  "language_info": {
   "codemirror_mode": {
    "name": "ipython",
    "version": 3
   },
   "file_extension": ".py",
   "mimetype": "text/x-python",
   "name": "python",
   "nbconvert_exporter": "python",
   "pygments_lexer": "ipython3",
   "version": "3.13.0"
  }
 },
 "nbformat": 4,
 "nbformat_minor": 5
}
