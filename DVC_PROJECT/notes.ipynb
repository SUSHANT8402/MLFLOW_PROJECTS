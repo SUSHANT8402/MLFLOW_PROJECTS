{
 "cells": [
  {
   "cell_type": "markdown",
   "id": "94d947d2",
   "metadata": {},
   "source": [
    "# DVC Notes\n",
    "\n",
    "##### Basically used for data versioning large datasets and ML models\n",
    " - Git for data"
   ]
  },
  {
   "cell_type": "code",
   "execution_count": null,
   "id": "d730d28e",
   "metadata": {},
   "outputs": [],
   "source": []
  }
 ],
 "metadata": {
  "language_info": {
   "name": "python"
  }
 },
 "nbformat": 4,
 "nbformat_minor": 5
}
